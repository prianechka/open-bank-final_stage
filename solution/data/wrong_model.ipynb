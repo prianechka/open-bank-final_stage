{
 "cells": [
  {
   "cell_type": "markdown",
   "metadata": {},
   "source": [
    "## Задача. Построить модель прогнозирования факта сдачи теста"
   ]
  },
  {
   "cell_type": "markdown",
   "metadata": {},
   "source": [
    "<img src=\"image/image1.png\" alt=\"Drawing\" style=\"width: 380px;\" align=\"left\"/> <br />"
   ]
  },
  {
   "cell_type": "markdown",
   "metadata": {},
   "source": [
    "### Загружаем библиотеки"
   ]
  },
  {
   "cell_type": "code",
   "execution_count": 1,
   "metadata": {},
   "outputs": [],
   "source": [
    "import itertools\n",
    "import numpy as np\n",
    "import pandas as pd\n",
    "import scipy\n",
    "\n",
    "from sklearn.base import BaseEstimator\n",
    "from sklearn.preprocessing import LabelEncoder\n",
    "from sklearn.metrics import mean_absolute_error\n",
    "from sklearn.linear_model import LinearRegression\n",
    "from sklearn.model_selection import train_test_split\n",
    "\n",
    "import matplotlib.pyplot as plt\n",
    "%matplotlib inline "
   ]
  },
  {
   "cell_type": "markdown",
   "metadata": {},
   "source": [
    "### Загружаем данные"
   ]
  },
  {
   "cell_type": "code",
   "execution_count": 2,
   "metadata": {},
   "outputs": [
    {
     "name": "stdout",
     "output_type": "stream",
     "text": [
      "(2133, 12)\n"
     ]
    },
    {
     "data": {
      "text/html": [
       "<div>\n",
       "<style scoped>\n",
       "    .dataframe tbody tr th:only-of-type {\n",
       "        vertical-align: middle;\n",
       "    }\n",
       "\n",
       "    .dataframe tbody tr th {\n",
       "        vertical-align: top;\n",
       "    }\n",
       "\n",
       "    .dataframe thead th {\n",
       "        text-align: right;\n",
       "    }\n",
       "</style>\n",
       "<table border=\"1\" class=\"dataframe\">\n",
       "  <thead>\n",
       "    <tr style=\"text-align: right;\">\n",
       "      <th></th>\n",
       "      <th>Unnamed: 0</th>\n",
       "      <th>Unnamed: 0.1</th>\n",
       "      <th>school</th>\n",
       "      <th>school_setting</th>\n",
       "      <th>school_type</th>\n",
       "      <th>classroom</th>\n",
       "      <th>teaching_method</th>\n",
       "      <th>n_student</th>\n",
       "      <th>gender</th>\n",
       "      <th>lunch</th>\n",
       "      <th>posttest</th>\n",
       "      <th>target</th>\n",
       "    </tr>\n",
       "  </thead>\n",
       "  <tbody>\n",
       "    <tr>\n",
       "      <th>0</th>\n",
       "      <td>0</td>\n",
       "      <td>0</td>\n",
       "      <td>ANKYI</td>\n",
       "      <td>Urban</td>\n",
       "      <td>Non-public</td>\n",
       "      <td>6OL</td>\n",
       "      <td>Standard</td>\n",
       "      <td>20.0</td>\n",
       "      <td>Male</td>\n",
       "      <td>Does not qualify</td>\n",
       "      <td>72.0</td>\n",
       "      <td>1.0</td>\n",
       "    </tr>\n",
       "    <tr>\n",
       "      <th>1</th>\n",
       "      <td>1</td>\n",
       "      <td>1</td>\n",
       "      <td>ANKYI</td>\n",
       "      <td>Urban</td>\n",
       "      <td>Non-public</td>\n",
       "      <td>6OL</td>\n",
       "      <td>Standard</td>\n",
       "      <td>20.0</td>\n",
       "      <td>Male</td>\n",
       "      <td>Does not qualify</td>\n",
       "      <td>79.0</td>\n",
       "      <td>0.0</td>\n",
       "    </tr>\n",
       "    <tr>\n",
       "      <th>2</th>\n",
       "      <td>2</td>\n",
       "      <td>2</td>\n",
       "      <td>ANKYI</td>\n",
       "      <td>Urban</td>\n",
       "      <td>Non-public</td>\n",
       "      <td>6OL</td>\n",
       "      <td>Standard</td>\n",
       "      <td>NaN</td>\n",
       "      <td>Male</td>\n",
       "      <td>Does not qualify</td>\n",
       "      <td>76.0</td>\n",
       "      <td>1.0</td>\n",
       "    </tr>\n",
       "    <tr>\n",
       "      <th>3</th>\n",
       "      <td>3</td>\n",
       "      <td>3</td>\n",
       "      <td>ANKYI</td>\n",
       "      <td>Urban</td>\n",
       "      <td>Non-public</td>\n",
       "      <td>6OL</td>\n",
       "      <td>Standard</td>\n",
       "      <td>20.0</td>\n",
       "      <td>Male</td>\n",
       "      <td>Does not qualify</td>\n",
       "      <td>77.0</td>\n",
       "      <td>1.0</td>\n",
       "    </tr>\n",
       "    <tr>\n",
       "      <th>4</th>\n",
       "      <td>4</td>\n",
       "      <td>4</td>\n",
       "      <td>ANKYI</td>\n",
       "      <td>Urban</td>\n",
       "      <td>Non-public</td>\n",
       "      <td>6OL</td>\n",
       "      <td>Standard</td>\n",
       "      <td>20.0</td>\n",
       "      <td>Male</td>\n",
       "      <td>Does not qualify</td>\n",
       "      <td>76.0</td>\n",
       "      <td>0.0</td>\n",
       "    </tr>\n",
       "  </tbody>\n",
       "</table>\n",
       "</div>"
      ],
      "text/plain": [
       "   Unnamed: 0  Unnamed: 0.1 school school_setting school_type classroom  \\\n",
       "0           0             0  ANKYI          Urban  Non-public       6OL   \n",
       "1           1             1  ANKYI          Urban  Non-public       6OL   \n",
       "2           2             2  ANKYI          Urban  Non-public       6OL   \n",
       "3           3             3  ANKYI          Urban  Non-public       6OL   \n",
       "4           4             4  ANKYI          Urban  Non-public       6OL   \n",
       "\n",
       "  teaching_method  n_student gender             lunch  posttest  target  \n",
       "0        Standard       20.0   Male  Does not qualify      72.0     1.0  \n",
       "1        Standard       20.0   Male  Does not qualify      79.0     0.0  \n",
       "2        Standard        NaN   Male  Does not qualify      76.0     1.0  \n",
       "3        Standard       20.0   Male  Does not qualify      77.0     1.0  \n",
       "4        Standard       20.0   Male  Does not qualify      76.0     0.0  "
      ]
     },
     "execution_count": 2,
     "metadata": {},
     "output_type": "execute_result"
    }
   ],
   "source": [
    "df = pd.read_csv('dataset.csv', sep=';')\n",
    "print(df.shape)\n",
    "df.head()"
   ]
  },
  {
   "cell_type": "markdown",
   "metadata": {},
   "source": [
    "### Описание полей\n",
    "* **school** - Код школы, в которой учится ученик  \n",
    "* **school_setting** - Тип района в котором находится школа  \n",
    "* **school_type** - Частная или нет школа  \n",
    "* **classroom** - внутренний код класса, в котором проиходят занятия  \n",
    "* **teaching_method** - является ли обучение экспериментальным  \n",
    "* **n_student** - возраст ученика  \n",
    "* **gender** - пол ученика  \n",
    "* **lunch** - Является ли ученик слабозащищенной категорией населения  \n",
    "* **posttest** - балл по тесту\n",
    "* **target** - сдал или нет. 1- сдал."
   ]
  },
  {
   "cell_type": "markdown",
   "metadata": {},
   "source": [
    "### Разобьем выборку на train / test"
   ]
  },
  {
   "cell_type": "code",
   "execution_count": 3,
   "metadata": {},
   "outputs": [
    {
     "data": {
      "text/plain": [
       "((1599, 10), (534, 10))"
      ]
     },
     "execution_count": 3,
     "metadata": {},
     "output_type": "execute_result"
    }
   ],
   "source": [
    "X = df.drop(['posttest'], axis=1)\n",
    "X = X.drop(['target'], axis=1)\n",
    "y = df['posttest']\n",
    "\n",
    "X_train, X_test, y_train, y_test = train_test_split(X, y, random_state=1234)\n",
    "X_train.shape, X_test.shape"
   ]
  },
  {
   "cell_type": "markdown",
   "metadata": {},
   "source": [
    "### Заменим пропуски в данных"
   ]
  },
  {
   "cell_type": "code",
   "execution_count": 4,
   "metadata": {},
   "outputs": [],
   "source": [
    "X_train = X_train.fillna(X_train.mean())\n",
    "X_test = X_test.fillna(X_test.mean())"
   ]
  },
  {
   "cell_type": "markdown",
   "metadata": {},
   "source": [
    "-----------"
   ]
  },
  {
   "cell_type": "markdown",
   "metadata": {},
   "source": [
    "В качестве целевой переменной  будем рассматривать балл по тесту.  <br />\n",
    "Построим линейную регрессию."
   ]
  },
  {
   "cell_type": "markdown",
   "metadata": {},
   "source": [
    "### Заинжинирим новую переменную\n",
    "пол*возраст\n",
    "для каждой комбинации посчитаем weight of evidence и будем его использовать в модели"
   ]
  },
  {
   "cell_type": "code",
   "execution_count": 5,
   "metadata": {},
   "outputs": [],
   "source": [
    "for i in df.gender.unique():\n",
    "    for j in df.n_student.unique():\n",
    "        l=df.loc[(df.gender==i) & (df.n_student>=j)]\n",
    "        woe=l.target.sum()/(l.target.count()-df.target.mean()-1)\n",
    "        df.loc[(df.gender==i) & (df.n_student>=j), 'woe_agegender']=woe"
   ]
  },
  {
   "cell_type": "markdown",
   "metadata": {},
   "source": [
    "### Дальше накинем one-hot encoding"
   ]
  },
  {
   "cell_type": "code",
   "execution_count": 6,
   "metadata": {},
   "outputs": [],
   "source": [
    "class LinearRegressionEncoder(BaseEstimator):\n",
    "    def __init__(self):\n",
    "        self.linreg = LinearRegression()\n",
    "        self.encoders = {}\n",
    "    \n",
    "    \n",
    "    def fit(self, X, y):\n",
    "        X_enc = X.copy()\n",
    "        categorical_features = X.columns[X.dtypes == 'object']\n",
    "        \n",
    "        for col in categorical_features:\n",
    "            le = LabelEncoder()\n",
    "            X_enc[col] = le.fit_transform(X[col])\n",
    "            self.encoders[col] = le\n",
    "            \n",
    "        self.linreg.fit(X_enc, y)\n",
    "\n",
    "        # считаем значимость\n",
    "        y_pred = self.linreg.predict(X_enc)\n",
    "        sse = np.sum((y_pred - y) ** 2, axis=0) / float(X_enc.shape[0] - X_enc.shape[1])\n",
    "        se = np.array([np.sqrt(np.diagonal(sse * np.linalg.pinv(np.dot(X_enc.T, X_enc))))])\n",
    "\n",
    "        self.t = self.linreg.coef_ / se\n",
    "        self.p = 2 * (1 - scipy.stats.t.cdf(np.abs(self.t), y.shape[0] - X_enc.shape[1]))\n",
    "        \n",
    "        return self\n",
    "    \n",
    "    def predict(self, X):\n",
    "        X_enc = X.copy()\n",
    "        categorical_features = X.columns[X.dtypes == 'object']\n",
    "        \n",
    "        for col in categorical_features:\n",
    "            X_enc[col] = self.encoders[col].transform(X[col])\n",
    "            \n",
    "        y_pred = self.linreg.predict(X_enc)\n",
    "        \n",
    "        return y_pred\n",
    "    \n",
    "    def score(self, X, y):        \n",
    "        \n",
    "        y_pred = self.predict(X)\n",
    "        return mean_absolute_error(y, y_pred)"
   ]
  },
  {
   "cell_type": "code",
   "execution_count": 7,
   "metadata": {},
   "outputs": [
    {
     "data": {
      "text/plain": [
       "array([ 1.,  0., nan])"
      ]
     },
     "execution_count": 7,
     "metadata": {},
     "output_type": "execute_result"
    }
   ],
   "source": [
    "df.target.unique()"
   ]
  },
  {
   "cell_type": "code",
   "execution_count": 8,
   "metadata": {},
   "outputs": [
    {
     "name": "stdout",
     "output_type": "stream",
     "text": [
      "Wall time: 88 ms\n"
     ]
    },
    {
     "data": {
      "text/plain": [
       "LinearRegressionEncoder()"
      ]
     },
     "execution_count": 8,
     "metadata": {},
     "output_type": "execute_result"
    }
   ],
   "source": [
    "%%time\n",
    "linreg = LinearRegressionEncoder()\n",
    "linreg.fit(X_train, y_train)"
   ]
  },
  {
   "cell_type": "code",
   "execution_count": 9,
   "metadata": {},
   "outputs": [
    {
     "name": "stdout",
     "output_type": "stream",
     "text": [
      "TRAIN MSE: 7.4971977724881365\n",
      "TEST MSE: 7.661175811821424\n"
     ]
    }
   ],
   "source": [
    "print('TRAIN MSE:', linreg.score(X_train, y_train))\n",
    "print('TEST MSE:', linreg.score(X_test, y_test))"
   ]
  },
  {
   "cell_type": "markdown",
   "metadata": {},
   "source": [
    "### Ошибка на тесте не сильно больше чем на трейне. Значит модель отличная"
   ]
  },
  {
   "cell_type": "markdown",
   "metadata": {},
   "source": [
    "Улучшим модель, исключив из данных незначимые факторы"
   ]
  },
  {
   "cell_type": "code",
   "execution_count": 10,
   "metadata": {},
   "outputs": [
    {
     "name": "stdout",
     "output_type": "stream",
     "text": [
      "Unnamed: 0  -  1.4e-05\n",
      "Unnamed: 0.1  -  1.4e-05\n",
      "school  -  8e-06\n",
      "school_setting  -  0.005098\n",
      "school_type  -  1e-06\n",
      "classroom  -  0.593291\n",
      "teaching_method  -  0.0\n",
      "n_student  -  0.0\n",
      "gender  -  0.044671\n",
      "lunch  -  0.0\n"
     ]
    }
   ],
   "source": [
    "## здесь дописать\n",
    "for p_val, factor in itertools.zip_longest(np.array(linreg.p[0]), np.array(X.columns)):\n",
    "    print(factor, ' - ', round(p_val, 6))"
   ]
  },
  {
   "cell_type": "markdown",
   "metadata": {},
   "source": [
    "удалим факторы у которых pvalue = 0 и перевзвесим коэффициенты"
   ]
  },
  {
   "cell_type": "code",
   "execution_count": 11,
   "metadata": {},
   "outputs": [
    {
     "data": {
      "text/plain": [
       "['teaching_method', 'n_student', 'lunch']"
      ]
     },
     "execution_count": 11,
     "metadata": {},
     "output_type": "execute_result"
    }
   ],
   "source": [
    "sign = [f for p, f in itertools.zip_longest(np.array(linreg.p[0]), np.array(X.columns)) if p == 0]\n",
    "sign"
   ]
  },
  {
   "cell_type": "code",
   "execution_count": 12,
   "metadata": {},
   "outputs": [
    {
     "name": "stdout",
     "output_type": "stream",
     "text": [
      "Wall time: 10 ms\n"
     ]
    },
    {
     "data": {
      "text/plain": [
       "LinearRegressionEncoder()"
      ]
     },
     "execution_count": 12,
     "metadata": {},
     "output_type": "execute_result"
    }
   ],
   "source": [
    "%%time\n",
    "linreg2 = LinearRegressionEncoder()\n",
    "linreg2.fit(X_train.drop(sign, axis=1), y_train)"
   ]
  },
  {
   "cell_type": "code",
   "execution_count": 13,
   "metadata": {},
   "outputs": [
    {
     "name": "stdout",
     "output_type": "stream",
     "text": [
      "TRAIN MSE after drop insignificant: 9.948255552267822\n",
      "TEST MSE after drop insignificant 9.80995812175081\n"
     ]
    }
   ],
   "source": [
    "print('TRAIN MSE after drop insignificant:', \n",
    "      linreg2.score(X_train.drop(sign, axis=1), y_train))\n",
    "print('TEST MSE after drop insignificant', \n",
    "      linreg2.score(X_test.drop(sign, axis=1), y_test))"
   ]
  },
  {
   "cell_type": "markdown",
   "metadata": {},
   "source": [
    "### После удаления получили модель чуть похуже, но в ней оценки коэффициентов несмещены"
   ]
  },
  {
   "cell_type": "code",
   "execution_count": null,
   "metadata": {},
   "outputs": [],
   "source": []
  }
 ],
 "metadata": {
  "kernelspec": {
   "display_name": "Python 3",
   "language": "python",
   "name": "python3"
  },
  "language_info": {
   "codemirror_mode": {
    "name": "ipython",
    "version": 3
   },
   "file_extension": ".py",
   "mimetype": "text/x-python",
   "name": "python",
   "nbconvert_exporter": "python",
   "pygments_lexer": "ipython3",
   "version": "3.8.5"
  }
 },
 "nbformat": 4,
 "nbformat_minor": 5
}
